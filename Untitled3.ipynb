{
  "nbformat": 4,
  "nbformat_minor": 0,
  "metadata": {
    "colab": {
      "provenance": [],
      "authorship_tag": "ABX9TyMFoHxijShreyHe+DWDDvs9",
      "include_colab_link": true
    },
    "kernelspec": {
      "name": "python3",
      "display_name": "Python 3"
    },
    "language_info": {
      "name": "python"
    }
  },
  "cells": [
    {
      "cell_type": "markdown",
      "metadata": {
        "id": "view-in-github",
        "colab_type": "text"
      },
      "source": [
        "<a href=\"https://colab.research.google.com/github/2303A5-1845/AIML_-25/blob/main/Untitled3.ipynb\" target=\"_parent\"><img src=\"https://colab.research.google.com/assets/colab-badge.svg\" alt=\"Open In Colab\"/></a>"
      ]
    },
    {
      "cell_type": "code",
      "source": [],
      "metadata": {
        "id": "I95-UytrzRUS"
      },
      "execution_count": null,
      "outputs": []
    },
    {
      "cell_type": "markdown",
      "source": [],
      "metadata": {
        "id": "idm1nggkvT0G"
      }
    },
    {
      "cell_type": "markdown",
      "source": [
        "Prediction of Student Performance in High School\n",
        "\n",
        "1. Identify the top 5 reasons for low performance of students\n",
        "\n",
        "2. Counts the students with Mother and Father Employed, both employed\n",
        "\n",
        "3. Find the max and min age of students in high school\n",
        "\n",
        "4. Name the medium of instruction was most used in school\n",
        "\n",
        "5. What is the role of extra-curricular activities on student performances.\n",
        "\n",
        "6. Apply either Classification Model or Clustering Model to evaluate the dataset."
      ],
      "metadata": {
        "id": "3_4Bhzf3vaE-"
      }
    },
    {
      "cell_type": "markdown",
      "source": [
        "# New Section"
      ],
      "metadata": {
        "id": "Hqhm9igwvcJu"
      }
    }
  ]
}